{
 "cells": [
  {
   "cell_type": "code",
   "execution_count": 1,
   "metadata": {
    "collapsed": true
   },
   "outputs": [],
   "source": [
    "import pandas as pd\n",
    "import talib as ta\n",
    "import numpy as np\n",
    "import matplotlib.pyplot as plt\n",
    "from sklearn.preprocessing import StandardScaler\n",
    "from sklearn.metrics import mean_squared_error, mean_absolute_error\n",
    "from sklearn.svm import LinearSVR, SVR\n",
    "\n",
    "%matplotlib inline"
   ]
  },
  {
   "cell_type": "markdown",
   "metadata": {},
   "source": [
    "### Implement the model"
   ]
  },
  {
   "cell_type": "code",
   "execution_count": 2,
   "metadata": {
    "collapsed": true
   },
   "outputs": [],
   "source": [
    "# define root directory of the data and the file...\n",
    "root_dir = '/home/alex/Documents/capstone-ml/'\n",
    "file = 'data_complete_1d.csv'\n",
    "\n",
    "# read the data\n",
    "ask_data = pd.read_csv(root_dir+file, low_memory=True, index_col = 0)"
   ]
  },
  {
   "cell_type": "code",
   "execution_count": 3,
   "metadata": {},
   "outputs": [
    {
     "data": {
      "text/html": [
       "<div>\n",
       "<style>\n",
       "    .dataframe thead tr:only-child th {\n",
       "        text-align: right;\n",
       "    }\n",
       "\n",
       "    .dataframe thead th {\n",
       "        text-align: left;\n",
       "    }\n",
       "\n",
       "    .dataframe tbody tr th {\n",
       "        vertical-align: top;\n",
       "    }\n",
       "</style>\n",
       "<table border=\"1\" class=\"dataframe\">\n",
       "  <thead>\n",
       "    <tr style=\"text-align: right;\">\n",
       "      <th></th>\n",
       "      <th>open</th>\n",
       "      <th>high</th>\n",
       "      <th>low</th>\n",
       "      <th>close</th>\n",
       "      <th>close-1</th>\n",
       "      <th>close-2</th>\n",
       "      <th>close-3</th>\n",
       "      <th>close-4</th>\n",
       "      <th>SMA5</th>\n",
       "      <th>SMA8</th>\n",
       "      <th>SMA13</th>\n",
       "      <th>EMA12</th>\n",
       "      <th>EMA26</th>\n",
       "    </tr>\n",
       "    <tr>\n",
       "      <th>Date</th>\n",
       "      <th></th>\n",
       "      <th></th>\n",
       "      <th></th>\n",
       "      <th></th>\n",
       "      <th></th>\n",
       "      <th></th>\n",
       "      <th></th>\n",
       "      <th></th>\n",
       "      <th></th>\n",
       "      <th></th>\n",
       "      <th></th>\n",
       "      <th></th>\n",
       "      <th></th>\n",
       "    </tr>\n",
       "  </thead>\n",
       "  <tbody>\n",
       "    <tr>\n",
       "      <th>2017-06-26</th>\n",
       "      <td>1.11997</td>\n",
       "      <td>1.12198</td>\n",
       "      <td>1.11716</td>\n",
       "      <td>1.11828</td>\n",
       "      <td>1.11996</td>\n",
       "      <td>1.11791</td>\n",
       "      <td>1.11495</td>\n",
       "      <td>1.11667</td>\n",
       "      <td>1.116628</td>\n",
       "      <td>1.116995</td>\n",
       "      <td>1.117918</td>\n",
       "      <td>1.117895</td>\n",
       "      <td>1.116128</td>\n",
       "    </tr>\n",
       "    <tr>\n",
       "      <th>2017-06-27</th>\n",
       "      <td>1.11827</td>\n",
       "      <td>1.13493</td>\n",
       "      <td>1.11800</td>\n",
       "      <td>1.13367</td>\n",
       "      <td>1.11828</td>\n",
       "      <td>1.11996</td>\n",
       "      <td>1.11791</td>\n",
       "      <td>1.11495</td>\n",
       "      <td>1.117554</td>\n",
       "      <td>1.117030</td>\n",
       "      <td>1.117773</td>\n",
       "      <td>1.117954</td>\n",
       "      <td>1.116288</td>\n",
       "    </tr>\n",
       "    <tr>\n",
       "      <th>2017-06-28</th>\n",
       "      <td>1.13367</td>\n",
       "      <td>1.13910</td>\n",
       "      <td>1.12915</td>\n",
       "      <td>1.13783</td>\n",
       "      <td>1.13367</td>\n",
       "      <td>1.11828</td>\n",
       "      <td>1.11996</td>\n",
       "      <td>1.11791</td>\n",
       "      <td>1.120954</td>\n",
       "      <td>1.118691</td>\n",
       "      <td>1.118845</td>\n",
       "      <td>1.120372</td>\n",
       "      <td>1.117575</td>\n",
       "    </tr>\n",
       "    <tr>\n",
       "      <th>2017-06-29</th>\n",
       "      <td>1.13783</td>\n",
       "      <td>1.14455</td>\n",
       "      <td>1.13767</td>\n",
       "      <td>1.14393</td>\n",
       "      <td>1.13783</td>\n",
       "      <td>1.13367</td>\n",
       "      <td>1.11828</td>\n",
       "      <td>1.11996</td>\n",
       "      <td>1.125530</td>\n",
       "      <td>1.121615</td>\n",
       "      <td>1.120146</td>\n",
       "      <td>1.123058</td>\n",
       "      <td>1.119076</td>\n",
       "    </tr>\n",
       "    <tr>\n",
       "      <th>2017-06-30</th>\n",
       "      <td>1.14393</td>\n",
       "      <td>1.14445</td>\n",
       "      <td>1.13921</td>\n",
       "      <td>1.14107</td>\n",
       "      <td>1.14393</td>\n",
       "      <td>1.13783</td>\n",
       "      <td>1.13367</td>\n",
       "      <td>1.11828</td>\n",
       "      <td>1.130734</td>\n",
       "      <td>1.125400</td>\n",
       "      <td>1.121888</td>\n",
       "      <td>1.126269</td>\n",
       "      <td>1.120917</td>\n",
       "    </tr>\n",
       "  </tbody>\n",
       "</table>\n",
       "</div>"
      ],
      "text/plain": [
       "               open     high      low    close  close-1  close-2  close-3  \\\n",
       "Date                                                                        \n",
       "2017-06-26  1.11997  1.12198  1.11716  1.11828  1.11996  1.11791  1.11495   \n",
       "2017-06-27  1.11827  1.13493  1.11800  1.13367  1.11828  1.11996  1.11791   \n",
       "2017-06-28  1.13367  1.13910  1.12915  1.13783  1.13367  1.11828  1.11996   \n",
       "2017-06-29  1.13783  1.14455  1.13767  1.14393  1.13783  1.13367  1.11828   \n",
       "2017-06-30  1.14393  1.14445  1.13921  1.14107  1.14393  1.13783  1.13367   \n",
       "\n",
       "            close-4      SMA5      SMA8     SMA13     EMA12     EMA26  \n",
       "Date                                                                   \n",
       "2017-06-26  1.11667  1.116628  1.116995  1.117918  1.117895  1.116128  \n",
       "2017-06-27  1.11495  1.117554  1.117030  1.117773  1.117954  1.116288  \n",
       "2017-06-28  1.11791  1.120954  1.118691  1.118845  1.120372  1.117575  \n",
       "2017-06-29  1.11996  1.125530  1.121615  1.120146  1.123058  1.119076  \n",
       "2017-06-30  1.11828  1.130734  1.125400  1.121888  1.126269  1.120917  "
      ]
     },
     "execution_count": 3,
     "metadata": {},
     "output_type": "execute_result"
    }
   ],
   "source": [
    "# get a first glance of the data\n",
    "ask_data.tail()"
   ]
  },
  {
   "cell_type": "code",
   "execution_count": 4,
   "metadata": {},
   "outputs": [
    {
     "name": "stdout",
     "output_type": "stream",
     "text": [
      "<class 'pandas.core.frame.DataFrame'>\n",
      "Index: 2237 entries, 2009-06-08 to 2017-06-30\n",
      "Data columns (total 13 columns):\n",
      "open       2237 non-null float64\n",
      "high       2237 non-null float64\n",
      "low        2237 non-null float64\n",
      "close      2237 non-null float64\n",
      "close-1    2237 non-null float64\n",
      "close-2    2237 non-null float64\n",
      "close-3    2237 non-null float64\n",
      "close-4    2237 non-null float64\n",
      "SMA5       2237 non-null float64\n",
      "SMA8       2237 non-null float64\n",
      "SMA13      2237 non-null float64\n",
      "EMA12      2237 non-null float64\n",
      "EMA26      2237 non-null float64\n",
      "dtypes: float64(13)\n",
      "memory usage: 244.7+ KB\n"
     ]
    }
   ],
   "source": [
    "ask_data.info()"
   ]
  },
  {
   "cell_type": "code",
   "execution_count": 5,
   "metadata": {},
   "outputs": [
    {
     "data": {
      "text/plain": [
       "(1737, 9)"
      ]
     },
     "execution_count": 5,
     "metadata": {},
     "output_type": "execute_result"
    }
   ],
   "source": [
    "# extract the features from the dataframe, drop everything but the features and assign a copy of it ...\n",
    "features = ask_data.drop(['high','low','open','close'], axis = 1).copy()\n",
    "\n",
    "# create training and test dataset\n",
    "X_train = np.array(features[:-500].values)\n",
    "y_train = np.array(ask_data['close'][:-500].values)\n",
    "X_test = np.array(features[-500:].values)\n",
    "y_test = np.array(ask_data['close'][-500:].values)\n",
    "\n",
    "# check it make sense\n",
    "X_train.shape"
   ]
  },
  {
   "cell_type": "code",
   "execution_count": 6,
   "metadata": {
    "collapsed": true
   },
   "outputs": [],
   "source": [
    "from sklearn.svm import LinearSVR, SVR\n",
    "# define a linear SVR \n",
    "clf = LinearSVR(random_state = 88)"
   ]
  },
  {
   "cell_type": "code",
   "execution_count": 7,
   "metadata": {
    "collapsed": true
   },
   "outputs": [],
   "source": [
    "# fit the data and save it as the model\n",
    "model = clf.fit(X_train, y_train)\n",
    "# predict the next close\n",
    "predictions = model.predict(X_test)"
   ]
  },
  {
   "cell_type": "code",
   "execution_count": 8,
   "metadata": {},
   "outputs": [
    {
     "name": "stdout",
     "output_type": "stream",
     "text": [
      "Linear SVR Score: 0.887224890598\n",
      "Linear SVR MSE: 8.16983187095e-05\n",
      "Linear SVR MAE: 0.00746367026588\n"
     ]
    }
   ],
   "source": [
    "# get the scores  of the simple model\n",
    "print('Linear SVR Score: '+str(model.score(X_test, y_test)))\n",
    "print('Linear SVR MSE: '+str(mean_squared_error(y_test, predictions)))\n",
    "print('Linear SVR MAE: '+str(mean_absolute_error(y_test, predictions)))"
   ]
  },
  {
   "cell_type": "markdown",
   "metadata": {},
   "source": [
    "### Refine the model"
   ]
  },
  {
   "cell_type": "code",
   "execution_count": 9,
   "metadata": {
    "collapsed": true
   },
   "outputs": [],
   "source": [
    "# import gridsearch and define some well known parameters which Gridsearch tries out on the SVR algorithm\n",
    "from sklearn.model_selection import GridSearchCV\n",
    "parameters = {'kernel':('linear', 'rbf', 'poly') ,\n",
    "              'C':[0.1, 1, 10, 100, 10000],\n",
    "              'degree':[2,3,4,5,6],\n",
    "              'epsilon':[0, 0.1, 0.01, 0.001]}\n",
    "svr = SVR()\n",
    "clf = GridSearchCV(svr, parameters, verbose = 2)\n"
   ]
  },
  {
   "cell_type": "code",
   "execution_count": null,
   "metadata": {
    "collapsed": true
   },
   "outputs": [],
   "source": [
    "# put Gridsearch to work\n",
    "clf.fit(X_train, y_train)"
   ]
  },
  {
   "cell_type": "code",
   "execution_count": null,
   "metadata": {
    "collapsed": true
   },
   "outputs": [],
   "source": [
    "# get the paramers which Gridsearch found\n",
    "clf.best_params_"
   ]
  },
  {
   "cell_type": "code",
   "execution_count": null,
   "metadata": {
    "collapsed": true
   },
   "outputs": [],
   "source": [
    "# ut of curiosity\n",
    "print(clf.best_score_)\n",
    "print(clf.best_estimator_)\n",
    "print(clf.best_index_)\n"
   ]
  },
  {
   "cell_type": "code",
   "execution_count": 11,
   "metadata": {
    "collapsed": true
   },
   "outputs": [],
   "source": [
    "# define the model with best parameters\n",
    "svr = SVR(kernel='linear', C = 100, epsilon = 0.001)"
   ]
  },
  {
   "cell_type": "code",
   "execution_count": 12,
   "metadata": {},
   "outputs": [
    {
     "data": {
      "text/plain": [
       "SVR(C=100, cache_size=200, coef0=0.0, degree=3, epsilon=0.001, gamma='auto',\n",
       "  kernel='linear', max_iter=-1, shrinking=True, tol=0.001, verbose=False)"
      ]
     },
     "execution_count": 12,
     "metadata": {},
     "output_type": "execute_result"
    }
   ],
   "source": [
    "# fit the data\n",
    "svr.fit(X_train, y_train)"
   ]
  },
  {
   "cell_type": "code",
   "execution_count": 13,
   "metadata": {},
   "outputs": [
    {
     "name": "stdout",
     "output_type": "stream",
     "text": [
      "Linear SVR Score: 0.9507140626\n",
      "Linear SVR MSE: 3.57044940408e-05\n",
      "Linear SVR MAE: 0.00446390494111\n"
     ]
    },
    {
     "data": {
      "text/plain": [
       "0.95071406260009539"
      ]
     },
     "execution_count": 13,
     "metadata": {},
     "output_type": "execute_result"
    }
   ],
   "source": [
    "# get the predictions and dccument the metrics\n",
    "predictions = svr.predict(X_test)\n",
    "print('Linear SVR Score: '+str(svr.score(X_test, y_test)))\n",
    "print('Linear SVR MSE: '+str(mean_squared_error(y_test, predictions)))\n",
    "print('Linear SVR MAE: '+str(mean_absolute_error(y_test, predictions)))\n",
    "svr.score(X_test, y_test)"
   ]
  },
  {
   "cell_type": "code",
   "execution_count": null,
   "metadata": {
    "collapsed": true
   },
   "outputs": [],
   "source": [
    "# define a new SVR model, for another round oof gridsearch to further refine\n",
    "lsvr = SVR(kernel = 'linear')"
   ]
  },
  {
   "cell_type": "code",
   "execution_count": null,
   "metadata": {
    "collapsed": true
   },
   "outputs": [],
   "source": [
    "# get Gridsearch and define some parameters near previous found best ones\n",
    "from sklearn.model_selection import GridSearchCV\n",
    "parameters = {'C':[50, 100, 200, 500, 1000, 2000, 5000],\n",
    "              'epsilon':[0.01, 0.001, 0.0005, 0.0001, 0.00005, 0.00001]}\n",
    "\n",
    "clf = GridSearchCV(lsvr, parameters, verbose = 2)"
   ]
  },
  {
   "cell_type": "code",
   "execution_count": null,
   "metadata": {
    "collapsed": true
   },
   "outputs": [],
   "source": [
    "# let figure Gridsearch out the best parameters\n",
    "clf.fit(X_train, y_train)"
   ]
  },
  {
   "cell_type": "code",
   "execution_count": null,
   "metadata": {
    "collapsed": true
   },
   "outputs": [],
   "source": [
    "# get the parameters\n",
    "clf.best_params_"
   ]
  },
  {
   "cell_type": "code",
   "execution_count": 17,
   "metadata": {},
   "outputs": [
    {
     "name": "stdout",
     "output_type": "stream",
     "text": [
      "Linear SVR Score: 0.9507140626\n",
      "Linear SVR MSE: 3.57044940408e-05\n",
      "Linear SVR MAE: 0.00446390494111\n"
     ]
    }
   ],
   "source": [
    "# define with found best parameters\n",
    "svr = SVR(kernel = 'linear', C = 100, epsilon = 0.001)\n",
    "# fit the data\n",
    "svr.fit(X_train, y_train)\n",
    "# predict the next days close\n",
    "predictions = svr.predict(X_test)\n",
    "# documents the metrics\n",
    "print('Linear SVR Score: '+str(svr.score(X_test, y_test)))\n",
    "print('Linear SVR MSE: '+str(mean_squared_error(y_test, predictions)))\n",
    "print('Linear SVR MAE: '+str(mean_absolute_error(y_test, predictions)))"
   ]
  },
  {
   "cell_type": "code",
   "execution_count": null,
   "metadata": {
    "collapsed": true
   },
   "outputs": [],
   "source": [
    "# a final round of refinement\n",
    "lsvr = SVR(kernel = 'linear')"
   ]
  },
  {
   "cell_type": "code",
   "execution_count": null,
   "metadata": {
    "collapsed": true
   },
   "outputs": [],
   "source": [
    "# get Gridsearch and define some parameters near previous found best ones\n",
    "from sklearn.model_selection import GridSearchCV\n",
    "parameters = {'C':[10, 20, 30, 40, 50, 60],\n",
    "              'epsilon':[0.005, 0.001, 0.0008]}\n",
    "\n",
    "clf = GridSearchCV(lsvr, parameters, verbose = 2)"
   ]
  },
  {
   "cell_type": "code",
   "execution_count": null,
   "metadata": {
    "collapsed": true
   },
   "outputs": [],
   "source": [
    "# let Gridsearch find them\n",
    "clf.fit(X_train, y_train)"
   ]
  },
  {
   "cell_type": "code",
   "execution_count": null,
   "metadata": {
    "collapsed": true
   },
   "outputs": [],
   "source": [
    "# document the parameters\n",
    "clf.best_params_"
   ]
  },
  {
   "cell_type": "code",
   "execution_count": 15,
   "metadata": {},
   "outputs": [
    {
     "name": "stdout",
     "output_type": "stream",
     "text": [
      "Linear SVR Score: 0.950428289882\n",
      "Linear SVR MSE: 3.59115180085e-05\n",
      "Linear SVR MAE: 0.00447258320504\n"
     ]
    }
   ],
   "source": [
    "# define with found best parameters\n",
    "svr = SVR(kernel = 'linear', C = 50, epsilon = 0.0008)\n",
    "# fit the data\n",
    "svr.fit(X_train, y_train)\n",
    "# predict the next days close\n",
    "predictions = svr.predict(X_test)\n",
    "# documents the metrics\n",
    "print('Linear SVR Score: '+str(svr.score(X_test, y_test)))\n",
    "print('Linear SVR MSE: '+str(mean_squared_error(y_test, predictions)))\n",
    "print('Linear SVR MAE: '+str(mean_absolute_error(y_test, predictions)))"
   ]
  },
  {
   "cell_type": "markdown",
   "metadata": {},
   "source": [
    "### Evaluate the model"
   ]
  },
  {
   "cell_type": "code",
   "execution_count": 16,
   "metadata": {
    "collapsed": true
   },
   "outputs": [],
   "source": [
    "# create an empty dataframe\n",
    "evaluation = pd.DataFrame()"
   ]
  },
  {
   "cell_type": "code",
   "execution_count": 18,
   "metadata": {},
   "outputs": [
    {
     "data": {
      "text/html": [
       "<div>\n",
       "<style>\n",
       "    .dataframe thead tr:only-child th {\n",
       "        text-align: right;\n",
       "    }\n",
       "\n",
       "    .dataframe thead th {\n",
       "        text-align: left;\n",
       "    }\n",
       "\n",
       "    .dataframe tbody tr th {\n",
       "        vertical-align: top;\n",
       "    }\n",
       "</style>\n",
       "<table border=\"1\" class=\"dataframe\">\n",
       "  <thead>\n",
       "    <tr style=\"text-align: right;\">\n",
       "      <th></th>\n",
       "      <th>true</th>\n",
       "      <th>predictions</th>\n",
       "      <th>yesterday</th>\n",
       "      <th>diff</th>\n",
       "      <th>diff_true</th>\n",
       "    </tr>\n",
       "    <tr>\n",
       "      <th>Date</th>\n",
       "      <th></th>\n",
       "      <th></th>\n",
       "      <th></th>\n",
       "      <th></th>\n",
       "      <th></th>\n",
       "    </tr>\n",
       "  </thead>\n",
       "  <tbody>\n",
       "    <tr>\n",
       "      <th>2015-08-06</th>\n",
       "      <td>1.09221</td>\n",
       "      <td>1.090024</td>\n",
       "      <td>1.09030</td>\n",
       "      <td>-0.000276</td>\n",
       "      <td>0.00191</td>\n",
       "    </tr>\n",
       "    <tr>\n",
       "      <th>2015-08-07</th>\n",
       "      <td>1.09492</td>\n",
       "      <td>1.092357</td>\n",
       "      <td>1.09221</td>\n",
       "      <td>0.000147</td>\n",
       "      <td>0.00271</td>\n",
       "    </tr>\n",
       "    <tr>\n",
       "      <th>2015-08-10</th>\n",
       "      <td>1.10155</td>\n",
       "      <td>1.095110</td>\n",
       "      <td>1.09492</td>\n",
       "      <td>0.000190</td>\n",
       "      <td>0.00663</td>\n",
       "    </tr>\n",
       "    <tr>\n",
       "      <th>2015-08-11</th>\n",
       "      <td>1.10417</td>\n",
       "      <td>1.101169</td>\n",
       "      <td>1.10155</td>\n",
       "      <td>-0.000381</td>\n",
       "      <td>0.00262</td>\n",
       "    </tr>\n",
       "    <tr>\n",
       "      <th>2015-08-12</th>\n",
       "      <td>1.11546</td>\n",
       "      <td>1.103957</td>\n",
       "      <td>1.10417</td>\n",
       "      <td>-0.000213</td>\n",
       "      <td>0.01129</td>\n",
       "    </tr>\n",
       "  </tbody>\n",
       "</table>\n",
       "</div>"
      ],
      "text/plain": [
       "               true  predictions  yesterday      diff  diff_true\n",
       "Date                                                            \n",
       "2015-08-06  1.09221     1.090024    1.09030 -0.000276    0.00191\n",
       "2015-08-07  1.09492     1.092357    1.09221  0.000147    0.00271\n",
       "2015-08-10  1.10155     1.095110    1.09492  0.000190    0.00663\n",
       "2015-08-11  1.10417     1.101169    1.10155 -0.000381    0.00262\n",
       "2015-08-12  1.11546     1.103957    1.10417 -0.000213    0.01129"
      ]
     },
     "execution_count": 18,
     "metadata": {},
     "output_type": "execute_result"
    }
   ],
   "source": [
    "# get the true values\n",
    "evaluation['true'] = ask_data['close'][-500:].copy()\n",
    "# get the predictions in, make sure from the right model (C=100, epsilon = 0.001)\n",
    "evaluation['predictions'] = predictions\n",
    "# get yeterdays close\n",
    "evaluation['yesterday'] = ask_data['close-1'].copy()\n",
    "# calculate the difference between predictions and yesterdays close\n",
    "evaluation['diff'] = evaluation['predictions'] - evaluation['yesterday']\n",
    "# calculate the difference between real values and yesterdays close\n",
    "evaluation['diff_true'] = evaluation['true'] - evaluation['yesterday']\n",
    "# check if it makes sense...\n",
    "evaluation.head()"
   ]
  },
  {
   "cell_type": "code",
   "execution_count": 20,
   "metadata": {},
   "outputs": [
    {
     "data": {
      "image/png": "[encoded data removed]",
      "text/plain": [
       "<matplotlib.figure.Figure at 0x7f5b9ed54ef0>"
      ]
     },
     "metadata": {},
     "output_type": "display_data"
    }
   ],
   "source": [
    "# histogram for deviation\n",
    "plt.figure()\n",
    "evaluation['diff'].plot.hist(bins = 20)\n",
    "plt.title('Price difference predicted and past close price')\n",
    "plt.show()"
   ]
  },
  {
   "cell_type": "code",
   "execution_count": 21,
   "metadata": {},
   "outputs": [
    {
     "data": {
      "text/plain": [
       "0.0002444145859805431"
      ]
     },
     "execution_count": 21,
     "metadata": {},
     "output_type": "execute_result"
    }
   ],
   "source": [
    "evaluation['diff'].mean()"
   ]
  },
  {
   "cell_type": "code",
   "execution_count": 22,
   "metadata": {},
   "outputs": [
    {
     "data": {
      "image/png": "[encoded data removed]",
      "text/plain": [
       "<matplotlib.figure.Figure at 0x7f5b9ec07e48>"
      ]
     },
     "metadata": {},
     "output_type": "display_data"
    }
   ],
   "source": [
    "# histogram for deviation\n",
    "plt.figure()\n",
    "evaluation['diff_true'].plot.hist(bins = 20)\n",
    "plt.title('Price difference predicted and past close price')\n",
    "plt.show()"
   ]
  },
  {
   "cell_type": "code",
   "execution_count": 23,
   "metadata": {},
   "outputs": [
    {
     "data": {
      "text/plain": [
       "0.00010154008865356445"
      ]
     },
     "execution_count": 23,
     "metadata": {},
     "output_type": "execute_result"
    }
   ],
   "source": [
    "evaluation['diff_true'].mean()"
   ]
  },
  {
   "cell_type": "code",
   "execution_count": 25,
   "metadata": {
    "collapsed": true
   },
   "outputs": [],
   "source": [
    "# define a condition in order to evaluate the model further\n",
    "more_than_eight_up = evaluation[(evaluation['predictions'] - evaluation['yesterday']) >= 0.0008].copy()\n",
    "more_than_eight_down = evaluation[(evaluation['predictions'] - evaluation['yesterday']) <= -0.0008].copy()\n",
    "\n",
    "more_than_ten_up = evaluation[(evaluation['predictions'] - evaluation['yesterday']) >= 0.0010].copy()\n",
    "more_than_fifteen_up = evaluation[(evaluation['predictions'] - evaluation['yesterday']) >= 0.0015].copy()"
   ]
  },
  {
   "cell_type": "code",
   "execution_count": 26,
   "metadata": {},
   "outputs": [
    {
     "name": "stdout",
     "output_type": "stream",
     "text": [
      "MSE more/equal 8 points up:  2.53954339741e-05\n",
      "MSE more/equal 8 points up:  5.58127943979e-05\n"
     ]
    }
   ],
   "source": [
    "#mean_squared_error(more_than_ten_up['true'].values, more_than_ten_up['predictions'].values)\n",
    "#mean_squared_error(more_than_fifteen_up['true'].values, more_than_fifteen_up['predictions'].values)\n",
    "#mean_squared_error(more_than_twenty_up['true'].values, more_than_twenty_up['predictions'].values)\n",
    "print('MSE more/equal 8 points up: ', mean_squared_error(more_than_eight_up['true'].values, more_than_eight_up['predictions'].values))\n",
    "print('MSE more/equal 8 points up: ', mean_squared_error(more_than_eight_down['true'].values, more_than_eight_down['predictions'].values))"
   ]
  },
  {
   "cell_type": "code",
   "execution_count": 27,
   "metadata": {},
   "outputs": [
    {
     "name": "stdout",
     "output_type": "stream",
     "text": [
      "accuracy for >= 8:  0.42857142857142855\n",
      "Approximately simple strategy:  6.02006912223e-05\n",
      "Approximately simple strategy with SL:  0.0533204660416\n"
     ]
    },
    {
     "data": {
      "text/plain": [
       "<matplotlib.axes._subplots.AxesSubplot at 0x7f5b9ead70b8>"
      ]
     },
     "execution_count": 27,
     "metadata": {},
     "output_type": "execute_result"
    },
    {
     "data": {
      "image/png": "[encoded data removed]",
      "text/plain": [
       "<matplotlib.figure.Figure at 0x7f5b9eb995c0>"
      ]
     },
     "metadata": {},
     "output_type": "display_data"
    }
   ],
   "source": [
    "# the difference between the true value and yesterdays close given the condition in the predicted value\n",
    "diff_true = (more_than_eight_up['true'] - more_than_eight_up['yesterday']).values\n",
    "# in case the difference is greater than the condition (0.0008), the true value agrees with the prediction,\n",
    "# therefore 1, if not 0\n",
    "result = [1 if value >= 0.0008 else 0 for value in diff_true]\n",
    "# for a simple strategy, sum up all the differences, no matter how much potential loss\n",
    "simple_prof = (more_than_eight_up['true'].values-more_than_eight_up['yesterday'].values)\n",
    "# set a stop loss\n",
    "stop_prof = [prof if prof > -0.0010 else -0.0010 for prof in simple_prof]\n",
    "\n",
    "# document the results\n",
    "print('accuracy for >= 8: ', sum(result) * 1.0 / len(result))\n",
    "print('Approximately simple strategy: ', sum(simple_prof))\n",
    "print('Approximately simple strategy with SL: ', sum(stop_prof))\n",
    "(more_than_eight_up['true'].values-more_than_eight_up['yesterday']).plot.hist()"
   ]
  },
  {
   "cell_type": "code",
   "execution_count": 28,
   "metadata": {},
   "outputs": [
    {
     "name": "stdout",
     "output_type": "stream",
     "text": [
      "accuracy for <= 8:  0.8\n",
      "Approximately simple strategy:  0.00820004940033\n",
      "Approximately simple strategy with SL:  0.0194800367355\n"
     ]
    },
    {
     "data": {
      "text/plain": [
       "<matplotlib.axes._subplots.AxesSubplot at 0x7f5b9ea1b240>"
      ]
     },
     "execution_count": 28,
     "metadata": {},
     "output_type": "execute_result"
    },
    {
     "data": {
      "image/png": "[encoded data removed]",
      "text/plain": [
       "<matplotlib.figure.Figure at 0x7f5b9eb376a0>"
      ]
     },
     "metadata": {},
     "output_type": "display_data"
    }
   ],
   "source": [
    "# the difference between the true value and yesterdays close given the condition in the predicted value\n",
    "diff_true = (more_than_eight_down['true'] - more_than_eight_down['yesterday']).values\n",
    "# in case the difference is less than the condition (-0.0008), the true value agrees with the prediction,\n",
    "# therefore 1, if not 0\n",
    "result = [1 if diff <= -0.0008 else 0 for diff in diff_true]\n",
    "# for a simple strategy, sum up all the differences, no matter how much potential loss\n",
    "simple_prof = (more_than_eight_down['yesterday'].values-more_than_eight_down['true'].values)\n",
    "# set a stop loss\n",
    "stop_prof = [prof if prof > -0.0010 else -0.0010 for prof in simple_prof]\n",
    "\n",
    "# document the results\n",
    "print('accuracy for <= 8: ', sum(result) * 1.0 / len(result))\n",
    "print('Approximately simple strategy: ', sum(simple_prof))\n",
    "print('Approximately simple strategy with SL: ', sum(stop_prof))\n",
    "\n",
    "(more_than_eight_down['yesterday'].values-more_than_eight_down['true']).plot.hist()"
   ]
  },
  {
   "cell_type": "markdown",
   "metadata": {},
   "source": [
    "### Compare the models"
   ]
  },
  {
   "cell_type": "code",
   "execution_count": 31,
   "metadata": {},
   "outputs": [
    {
     "data": {
      "text/plain": [
       "(0.97533533900821445, 0.0)"
      ]
     },
     "execution_count": 31,
     "metadata": {},
     "output_type": "execute_result"
    }
   ],
   "source": [
    "# curiosity, check correlation and compare to the ARIMA model\n",
    "from scipy.stats.stats import pearsonr\n",
    "pearsonr(evaluation['true'], evaluation['predictions'])"
   ]
  },
  {
   "cell_type": "code",
   "execution_count": 30,
   "metadata": {},
   "outputs": [
    {
     "data": {
      "text/plain": [
       "<matplotlib.axes._subplots.AxesSubplot at 0x7f5b9eb20048>"
      ]
     },
     "execution_count": 30,
     "metadata": {},
     "output_type": "execute_result"
    },
    {
     "data": {
      "image/png": "[encoded data removed]",
      "text/plain": [
       "<matplotlib.figure.Figure at 0x7f5b9eb7a5c0>"
      ]
     },
     "metadata": {},
     "output_type": "display_data"
    }
   ],
   "source": [
    "# plot the predictions and true values\n",
    "plt.figure(figsize = (20,10))\n",
    "plt.xlabel(\"Date\")\n",
    "plt.ylabel(\"USD/EUR price in USD\")\n",
    "evaluation['true'].plot()\n",
    "evaluation['predictions'].plot(color = 'red')"
   ]
  },
  {
   "cell_type": "code",
   "execution_count": null,
   "metadata": {
    "collapsed": true
   },
   "outputs": [],
   "source": []
  }
 ],
 "metadata": {
  "kernelspec": {
   "display_name": "Python 3",
   "language": "python",
   "name": "python3"
  },
  "language_info": {
   "codemirror_mode": {
    "name": "ipython",
    "version": 3
   },
   "file_extension": ".py",
   "mimetype": "text/x-python",
   "name": "python",
   "nbconvert_exporter": "python",
   "pygments_lexer": "ipython3",
   "version": "3.6.1"
  }
 },
 "nbformat": 4,
 "nbformat_minor": 2
}
