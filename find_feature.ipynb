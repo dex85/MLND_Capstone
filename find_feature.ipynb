{
 "cells": [
  {
   "cell_type": "code",
   "execution_count": 1,
   "metadata": {
    "collapsed": true
   },
   "outputs": [],
   "source": [
    "import pandas as pd\n",
    "import numpy as np\n",
    "import matplotlib.pyplot as plt\n",
    "from sklearn.metrics import mean_squared_error, mean_absolute_error\n",
    "%matplotlib inline"
   ]
  },
  {
   "cell_type": "code",
   "execution_count": 2,
   "metadata": {},
   "outputs": [
    {
     "data": {
      "text/html": [
       "<div>\n",
       "<style>\n",
       "    .dataframe thead tr:only-child th {\n",
       "        text-align: right;\n",
       "    }\n",
       "\n",
       "    .dataframe thead th {\n",
       "        text-align: left;\n",
       "    }\n",
       "\n",
       "    .dataframe tbody tr th {\n",
       "        vertical-align: top;\n",
       "    }\n",
       "</style>\n",
       "<table border=\"1\" class=\"dataframe\">\n",
       "  <thead>\n",
       "    <tr style=\"text-align: right;\">\n",
       "      <th></th>\n",
       "      <th>open</th>\n",
       "      <th>high</th>\n",
       "      <th>low</th>\n",
       "      <th>close</th>\n",
       "    </tr>\n",
       "    <tr>\n",
       "      <th>Date</th>\n",
       "      <th></th>\n",
       "      <th></th>\n",
       "      <th></th>\n",
       "      <th></th>\n",
       "    </tr>\n",
       "  </thead>\n",
       "  <tbody>\n",
       "    <tr>\n",
       "      <th>2009-05-01</th>\n",
       "      <td>1.32436</td>\n",
       "      <td>1.33282</td>\n",
       "      <td>1.32274</td>\n",
       "      <td>1.32729</td>\n",
       "    </tr>\n",
       "    <tr>\n",
       "      <th>2009-05-03</th>\n",
       "      <td>1.32731</td>\n",
       "      <td>1.32920</td>\n",
       "      <td>1.32714</td>\n",
       "      <td>1.32882</td>\n",
       "    </tr>\n",
       "    <tr>\n",
       "      <th>2009-05-04</th>\n",
       "      <td>1.32878</td>\n",
       "      <td>1.34379</td>\n",
       "      <td>1.32123</td>\n",
       "      <td>1.34155</td>\n",
       "    </tr>\n",
       "    <tr>\n",
       "      <th>2009-05-05</th>\n",
       "      <td>1.34155</td>\n",
       "      <td>1.34355</td>\n",
       "      <td>1.32822</td>\n",
       "      <td>1.33037</td>\n",
       "    </tr>\n",
       "    <tr>\n",
       "      <th>2009-05-06</th>\n",
       "      <td>1.33030</td>\n",
       "      <td>1.33746</td>\n",
       "      <td>1.32460</td>\n",
       "      <td>1.33000</td>\n",
       "    </tr>\n",
       "  </tbody>\n",
       "</table>\n",
       "</div>"
      ],
      "text/plain": [
       "               open     high      low    close\n",
       "Date                                          \n",
       "2009-05-01  1.32436  1.33282  1.32274  1.32729\n",
       "2009-05-03  1.32731  1.32920  1.32714  1.32882\n",
       "2009-05-04  1.32878  1.34379  1.32123  1.34155\n",
       "2009-05-05  1.34155  1.34355  1.32822  1.33037\n",
       "2009-05-06  1.33030  1.33746  1.32460  1.33000"
      ]
     },
     "execution_count": 2,
     "metadata": {},
     "output_type": "execute_result"
    }
   ],
   "source": [
    "# define root directory of the data and the file...\n",
    "root_dir = '/home/alex/Documents/capstone-ml/'\n",
    "file = 'data_2009-2017_1d.csv'\n",
    "\n",
    "# read the data and show first five samples\n",
    "ask_data = pd.read_csv(root_dir+file, low_memory=True, usecols=['Date', 'open', 'high', 'low', 'close'], index_col = ['Date'])\n",
    "ask_data.head()"
   ]
  },
  {
   "cell_type": "code",
   "execution_count": 3,
   "metadata": {
    "collapsed": true
   },
   "outputs": [],
   "source": [
    "from sklearn.svm import LinearSVR\n",
    "\n",
    "# the function takes the price dataframe and the n-days, where n defines how many previous close prices should be\n",
    "# considered as, it then trains a linearSVR and calculates the R2 score for each window-size (from 2-n)\n",
    "# the function returns the score and MSR in a 2d-list\n",
    "\n",
    "def pipeline(n, price_data):\n",
    "    \n",
    "    R2_MSE = []\n",
    "    \n",
    "    for i in range(2,n):\n",
    "        \n",
    "        data = price_data.dropna().copy()\n",
    "        \n",
    "        for j in range(1,i):\n",
    "    \n",
    "            close_n = data['close'].shift(j)\n",
    "            high_n = data['high'].shift(j)\n",
    "            low_n = data['low'].shift(j)\n",
    "            open_n = data['open'].shift(j)\n",
    "    \n",
    "            data[str('close-'+str(j))] = close_n.values\n",
    "    \n",
    "        data.dropna(inplace = True)\n",
    "    \n",
    "        features = data.drop(['high','low','open','close'], axis = 1)\n",
    "        X_train = np.array(features[:-500].values)\n",
    "        y_train = np.array(data['close'][:-500].values)\n",
    "        X_test = np.array(features[-500:].values)\n",
    "        y_test = np.array(data['close'][-500:].values)\n",
    "\n",
    "        \n",
    "        clf = LinearSVR(random_state=88)\n",
    "        model = clf.fit(X_train, y_train)\n",
    "        predictions = model.predict(X_test)\n",
    "    \n",
    "        print(\"Finished n = \"+str(i))\n",
    "\n",
    "        R2_MSE.append([model.score(X_test, y_test), mean_squared_error(y_test, predictions)])\n",
    "        \n",
    "    return R2_MSE"
   ]
  },
  {
   "cell_type": "code",
   "execution_count": 4,
   "metadata": {},
   "outputs": [
    {
     "name": "stdout",
     "output_type": "stream",
     "text": [
      "Finished n = 2\n",
      "Finished n = 3\n",
      "Finished n = 4\n",
      "Finished n = 5\n",
      "Finished n = 6\n",
      "Finished n = 7\n",
      "Finished n = 8\n",
      "Finished n = 9\n",
      "Finished n = 10\n",
      "Finished n = 11\n",
      "Finished n = 12\n",
      "Finished n = 13\n",
      "Finished n = 14\n",
      "Finished n = 15\n",
      "Finished n = 16\n",
      "Finished n = 17\n",
      "Finished n = 18\n",
      "Finished n = 19\n",
      "Finished n = 20\n",
      "Finished n = 21\n",
      "Finished n = 22\n",
      "Finished n = 23\n",
      "Finished n = 24\n",
      "Finished n = 25\n",
      "Finished n = 26\n",
      "Finished n = 27\n",
      "Finished n = 28\n",
      "Finished n = 29\n",
      "Finished n = 30\n",
      "Finished n = 31\n",
      "Finished n = 32\n",
      "Finished n = 33\n",
      "Finished n = 34\n",
      "Finished n = 35\n",
      "Finished n = 36\n",
      "Finished n = 37\n",
      "Finished n = 38\n",
      "Finished n = 39\n",
      "Finished n = 40\n",
      "Finished n = 41\n",
      "Finished n = 42\n",
      "Finished n = 43\n",
      "Finished n = 44\n",
      "Finished n = 45\n",
      "Finished n = 46\n",
      "Finished n = 47\n",
      "Finished n = 48\n",
      "Finished n = 49\n",
      "Finished n = 50\n"
     ]
    }
   ],
   "source": [
    "R2_MSE = pipeline(51, ask_data)"
   ]
  },
  {
   "cell_type": "code",
   "execution_count": 5,
   "metadata": {},
   "outputs": [
    {
     "data": {
      "text/plain": [
       "3"
      ]
     },
     "execution_count": 5,
     "metadata": {},
     "output_type": "execute_result"
    },
    {
     "data": {
      "image/png": "[encoded data removed]",
      "text/plain": [
       "<matplotlib.figure.Figure at 0x7fa8dc6105c0>"
      ]
     },
     "metadata": {},
     "output_type": "display_data"
    }
   ],
   "source": [
    "MSE = [R2_MSE[i][1] for i in range(len(R2_MSE))]\n",
    "R2 = [R2_MSE[i][0] for i in range(len(R2_MSE))]\n",
    "plt.plot(range(1,len(MSE)+1), MSE)\n",
    "plt.xlabel(\"n past days\")\n",
    "plt.ylabel(\"Mean Squared Error\")\n",
    "plt.xlim(xmin=1)\n",
    "\n",
    "# find the lowest error and repeat the index\n",
    "# the index + 1 defines the window-size with the lowest error, and therefore the choice\n",
    "MSE.index(min(MSE))"
   ]
  },
  {
   "cell_type": "code",
   "execution_count": null,
   "metadata": {
    "collapsed": true
   },
   "outputs": [],
   "source": []
  }
 ],
 "metadata": {
  "kernelspec": {
   "display_name": "Python 3",
   "language": "python",
   "name": "python3"
  },
  "language_info": {
   "codemirror_mode": {
    "name": "ipython",
    "version": 3
   },
   "file_extension": ".py",
   "mimetype": "text/x-python",
   "name": "python",
   "nbconvert_exporter": "python",
   "pygments_lexer": "ipython3",
   "version": "3.6.1"
  }
 },
 "nbformat": 4,
 "nbformat_minor": 2
}
