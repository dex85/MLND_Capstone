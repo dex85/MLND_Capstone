{
 "cells": [
  {
   "cell_type": "markdown",
   "metadata": {},
   "source": [
    "### Load the initial data, resample, concatenate and save it"
   ]
  },
  {
   "cell_type": "code",
   "execution_count": 1,
   "metadata": {
    "collapsed": true
   },
   "outputs": [],
   "source": [
    "import pandas as pd\n",
    "import numpy as np\n",
    "import matplotlib.pyplot as plt\n",
    "\n",
    "# define root directory of the data\n",
    "root_dir = '/home/alex/Documents/capstone-ml/forex_data/'\n",
    "\n",
    "# define the source csv files, for machines with big ram - files2 is enough...\n",
    "\n",
    "files17 = ['EURUSD-2017-01.csv','EURUSD-2017-02.csv','EURUSD-2017-03.csv','EURUSD-2017-04.csv',\n",
    "         'EURUSD-2017-05.csv','EURUSD-2017-06.csv']\n",
    "\n",
    "files09 = ['EURUSD-2009-05.csv','EURUSD-2009-06.csv','EURUSD-2009-07.csv','EURUSD-2009-08.csv',\n",
    "         'EURUSD-2009-09.csv','EURUSD-2009-10.csv','EURUSD-2009-11.csv','EURUSD-2009-12.csv']\n",
    "\n",
    "files = ['EURUSD-2016-01.csv','EURUSD-2016-02.csv','EURUSD-2016-03.csv','EURUSD-2016-04.csv',\n",
    "         'EURUSD-2016-05.csv','EURUSD-2016-06.csv','EURUSD-2016-07.csv','EURUSD-2016-08.csv',\n",
    "         'EURUSD-2016-09.csv','EURUSD-2016-10.csv','EURUSD-2016-11.csv','EURUSD-2016-12.csv']\n",
    "\n",
    "files2 = [\n",
    "         'EURUSD-2009-05.csv','EURUSD-2009-06.csv','EURUSD-2009-07.csv','EURUSD-2009-08.csv',\n",
    "         'EURUSD-2009-09.csv','EURUSD-2009-10.csv','EURUSD-2009-11.csv','EURUSD-2009-12.csv',\n",
    "         'EURUSD-2010-01.csv','EURUSD-2010-02.csv','EURUSD-2010-03.csv','EURUSD-2010-04.csv',\n",
    "         'EURUSD-2010-05.csv','EURUSD-2010-06.csv','EURUSD-2010-07.csv','EURUSD-2010-08.csv',\n",
    "         'EURUSD-2010-09.csv','EURUSD-2010-10.csv','EURUSD-2010-11.csv','EURUSD-2010-12.csv',\n",
    "         'EURUSD-2011-01.csv','EURUSD-2011-02.csv','EURUSD-2011-03.csv','EURUSD-2011-04.csv',\n",
    "         'EURUSD-2011-05.csv','EURUSD-2011-06.csv','EURUSD-2011-07.csv','EURUSD-2011-08.csv',\n",
    "         'EURUSD-2011-09.csv','EURUSD-2011-10.csv','EURUSD-2011-11.csv','EURUSD-2011-12.csv',\n",
    "         'EURUSD-2012-01.csv','EURUSD-2012-02.csv','EURUSD-2012-03.csv','EURUSD-2012-04.csv',\n",
    "         'EURUSD-2012-05.csv','EURUSD-2012-06.csv','EURUSD-2012-07.csv','EURUSD-2012-08.csv',\n",
    "         'EURUSD-2012-09.csv','EURUSD-2012-10.csv','EURUSD-2012-11.csv','EURUSD-2012-12.csv',\n",
    "         'EURUSD-2013-01.csv','EURUSD-2013-02.csv','EURUSD-2013-03.csv','EURUSD-2013-04.csv',\n",
    "         'EURUSD-2013-05.csv','EURUSD-2013-06.csv','EURUSD-2013-07.csv','EURUSD-2013-08.csv',\n",
    "         'EURUSD-2013-09.csv','EURUSD-2013-10.csv','EURUSD-2013-11.csv','EURUSD-2013-12.csv',\n",
    "         'EURUSD-2014-01.csv','EURUSD-2014-02.csv','EURUSD-2014-03.csv','EURUSD-2014-04.csv',\n",
    "         'EURUSD-2014-05.csv','EURUSD-2014-06.csv','EURUSD-2014-07.csv','EURUSD-2014-08.csv',\n",
    "         'EURUSD-2014-09.csv','EURUSD-2014-10.csv','EURUSD-2014-11.csv','EURUSD-2014-12.csv',\n",
    "         'EURUSD-2015-01.csv','EURUSD-2015-02.csv','EURUSD-2015-03.csv','EURUSD-2015-04.csv',\n",
    "         'EURUSD-2015-05.csv','EURUSD-2015-06.csv','EURUSD-2015-07.csv','EURUSD-2015-08.csv',\n",
    "         'EURUSD-2015-09.csv','EURUSD-2015-10.csv','EURUSD-2015-11.csv','EURUSD-2015-12.csv',\n",
    "         'EURUSD-2016-01.csv','EURUSD-2016-02.csv','EURUSD-2016-03.csv','EURUSD-2016-04.csv',\n",
    "         'EURUSD-2016-05.csv','EURUSD-2016-06.csv','EURUSD-2016-07.csv','EURUSD-2016-08.csv',\n",
    "         'EURUSD-2016-09.csv','EURUSD-2016-10.csv','EURUSD-2016-11.csv','EURUSD-2016-12.csv',\n",
    "         'EURUSD-2017-01.csv','EURUSD-2017-02.csv','EURUSD-2017-03.csv','EURUSD-2017-04.csv',\n",
    "         'EURUSD-2017-05.csv','EURUSD-2017-06.csv']"
   ]
  },
  {
   "cell_type": "code",
   "execution_count": null,
   "metadata": {
    "collapsed": true
   },
   "outputs": [],
   "source": [
    "# read the data, resample and concatenate it ...\n",
    "# takes some time, maybe memory error...\n",
    "\n",
    "ask_data = pd.DataFrame()\n",
    "for file in files17:\n",
    "    print(\"Read in \"+file)\n",
    "    temp = pd.read_csv(root_dir+file, usecols = [1, 2],low_memory=True, names=['Date', 'Ask'], index_col = ['Date'], dtype={'Ask':np.float32})\n",
    "    temp.index = pd.to_datetime(temp.index)\n",
    "    temp_ask = temp['Ask'].resample('1d').ohlc()\n",
    "    del(temp)\n",
    "    ask_data = pd.concat([ask_data, temp_ask])\n",
    "    del(temp_ask)"
   ]
  },
  {
   "cell_type": "code",
   "execution_count": null,
   "metadata": {
    "collapsed": true
   },
   "outputs": [],
   "source": [
    "# save the resampled data\n",
    "ask_data.to_csv(\"data_2017_1d.csv\", index_label='Date')"
   ]
  },
  {
   "cell_type": "markdown",
   "metadata": {},
   "source": [
    "### Load preprossed data, concatenate further, drop NaN values and save it as one CSV file"
   ]
  },
  {
   "cell_type": "code",
   "execution_count": null,
   "metadata": {
    "collapsed": true
   },
   "outputs": [],
   "source": [
    "root_dir = '/home/alex/Documents/capstone-ml/'\n",
    "files = ['data_2009_1d.csv','data_2010_1d.csv','data_2011_1d.csv','data_2012_1d.csv','data_2013_1d.csv','data_2014_1d.csv',\n",
    "         'data_2015_1d.csv','data_2016_1d.csv','data_2017_1d.csv']\n",
    "\n",
    "# read the data\n",
    "ask_data = pd.DataFrame()\n",
    "for file in files:\n",
    "    print(\"Read in \"+file)\n",
    "    temp = pd.read_csv(root_dir+file, low_memory=True, usecols=['Date', 'open', 'high', 'low', 'close'], index_col = ['Date'])\n",
    "    ask_data = pd.concat([ask_data, temp])\n",
    "    del(temp)"
   ]
  },
  {
   "cell_type": "code",
   "execution_count": null,
   "metadata": {
    "collapsed": true
   },
   "outputs": [],
   "source": [
    "# drop NaN and save to itself (inplace=True)\n",
    "ask_data.dropna(inplace = True)\n",
    "# save to csv file\n",
    "ask_data.to_csv(\"data_2009-2017_1d.csv\", index_label='Date')"
   ]
  },
  {
   "cell_type": "markdown",
   "metadata": {},
   "source": [
    "### Load data, analyze, calculate the features and save as final CSV"
   ]
  },
  {
   "cell_type": "code",
   "execution_count": 1,
   "metadata": {},
   "outputs": [
    {
     "name": "stdout",
     "output_type": "stream",
     "text": [
      "<class 'pandas.core.frame.DataFrame'>\n",
      "Index: 2266 entries, 2009-05-01 to 2017-06-30\n",
      "Data columns (total 4 columns):\n",
      "open     2266 non-null float64\n",
      "high     2266 non-null float64\n",
      "low      2266 non-null float64\n",
      "close    2266 non-null float64\n",
      "dtypes: float64(4)\n",
      "memory usage: 88.5+ KB\n"
     ]
    }
   ],
   "source": [
    "import pandas as pd\n",
    "import numpy as np\n",
    "import matplotlib.pyplot as plt\n",
    "\n",
    "%matplotlib inline\n",
    "root_dir = '/home/alex/Documents/capstone-ml/'\n",
    "file = 'data_2009-2017_1d.csv'\n",
    "\n",
    "ask_data = pd.read_csv(root_dir+file, low_memory=True, usecols=['Date', 'open', 'high', 'low', 'close'], index_col = ['Date'])\n",
    "ask_data.head()\n",
    "ask_data.info()"
   ]
  },
  {
   "cell_type": "code",
   "execution_count": 2,
   "metadata": {},
   "outputs": [
    {
     "data": {
      "text/html": [
       "<div>\n",
       "<style>\n",
       "    .dataframe thead tr:only-child th {\n",
       "        text-align: right;\n",
       "    }\n",
       "\n",
       "    .dataframe thead th {\n",
       "        text-align: left;\n",
       "    }\n",
       "\n",
       "    .dataframe tbody tr th {\n",
       "        vertical-align: top;\n",
       "    }\n",
       "</style>\n",
       "<table border=\"1\" class=\"dataframe\">\n",
       "  <thead>\n",
       "    <tr style=\"text-align: right;\">\n",
       "      <th></th>\n",
       "      <th>open</th>\n",
       "      <th>high</th>\n",
       "      <th>low</th>\n",
       "      <th>close</th>\n",
       "    </tr>\n",
       "  </thead>\n",
       "  <tbody>\n",
       "    <tr>\n",
       "      <th>count</th>\n",
       "      <td>2266.000000</td>\n",
       "      <td>2266.000000</td>\n",
       "      <td>2266.000000</td>\n",
       "      <td>2266.000000</td>\n",
       "    </tr>\n",
       "    <tr>\n",
       "      <th>mean</th>\n",
       "      <td>1.276043</td>\n",
       "      <td>1.281437</td>\n",
       "      <td>1.270566</td>\n",
       "      <td>1.275922</td>\n",
       "    </tr>\n",
       "    <tr>\n",
       "      <th>std</th>\n",
       "      <td>0.124088</td>\n",
       "      <td>0.124310</td>\n",
       "      <td>0.123756</td>\n",
       "      <td>0.124231</td>\n",
       "    </tr>\n",
       "    <tr>\n",
       "      <th>min</th>\n",
       "      <td>1.039050</td>\n",
       "      <td>1.041790</td>\n",
       "      <td>1.034000</td>\n",
       "      <td>1.039050</td>\n",
       "    </tr>\n",
       "    <tr>\n",
       "      <th>25%</th>\n",
       "      <td>1.132433</td>\n",
       "      <td>1.137758</td>\n",
       "      <td>1.127197</td>\n",
       "      <td>1.132203</td>\n",
       "    </tr>\n",
       "    <tr>\n",
       "      <th>50%</th>\n",
       "      <td>1.307620</td>\n",
       "      <td>1.313985</td>\n",
       "      <td>1.303600</td>\n",
       "      <td>1.307770</td>\n",
       "    </tr>\n",
       "    <tr>\n",
       "      <th>75%</th>\n",
       "      <td>1.367205</td>\n",
       "      <td>1.371510</td>\n",
       "      <td>1.361650</td>\n",
       "      <td>1.367173</td>\n",
       "    </tr>\n",
       "    <tr>\n",
       "      <th>max</th>\n",
       "      <td>1.512590</td>\n",
       "      <td>1.514430</td>\n",
       "      <td>1.503650</td>\n",
       "      <td>1.512640</td>\n",
       "    </tr>\n",
       "  </tbody>\n",
       "</table>\n",
       "</div>"
      ],
      "text/plain": [
       "              open         high          low        close\n",
       "count  2266.000000  2266.000000  2266.000000  2266.000000\n",
       "mean      1.276043     1.281437     1.270566     1.275922\n",
       "std       0.124088     0.124310     0.123756     0.124231\n",
       "min       1.039050     1.041790     1.034000     1.039050\n",
       "25%       1.132433     1.137758     1.127197     1.132203\n",
       "50%       1.307620     1.313985     1.303600     1.307770\n",
       "75%       1.367205     1.371510     1.361650     1.367173\n",
       "max       1.512590     1.514430     1.503650     1.512640"
      ]
     },
     "execution_count": 2,
     "metadata": {},
     "output_type": "execute_result"
    }
   ],
   "source": [
    "# get some basic statistics\n",
    "ask_data.describe()"
   ]
  },
  {
   "cell_type": "code",
   "execution_count": 3,
   "metadata": {},
   "outputs": [
    {
     "data": {
      "text/plain": [
       "-1.1020331107407539"
      ]
     },
     "execution_count": 3,
     "metadata": {},
     "output_type": "execute_result"
    }
   ],
   "source": [
    "# Kurtosis of the close data\n",
    "ask_data['close'].kurtosis()"
   ]
  },
  {
   "cell_type": "code",
   "execution_count": 4,
   "metadata": {},
   "outputs": [
    {
     "data": {
      "text/plain": [
       "-0.35743209826149586"
      ]
     },
     "execution_count": 4,
     "metadata": {},
     "output_type": "execute_result"
    }
   ],
   "source": [
    "# Skewness of the close data\n",
    "ask_data['close'].skew()"
   ]
  },
  {
   "cell_type": "code",
   "execution_count": 5,
   "metadata": {},
   "outputs": [
    {
     "data": {
      "text/plain": [
       "<matplotlib.text.Text at 0x7f2184072d68>"
      ]
     },
     "execution_count": 5,
     "metadata": {},
     "output_type": "execute_result"
    },
    {
     "data": {
      "image/png": "[encoded data removed]",
      "text/plain": [
       "<matplotlib.figure.Figure at 0x7f2183fa73c8>"
      ]
     },
     "metadata": {},
     "output_type": "display_data"
    }
   ],
   "source": [
    "# some visualization\n",
    "plt.figure(figsize = (20,10))\n",
    "ask_data['close'].plot()\n",
    "plt.xlabel(\"Date\")\n",
    "plt.ylabel(\"USD/EUR price in USD\")"
   ]
  },
  {
   "cell_type": "code",
   "execution_count": 6,
   "metadata": {},
   "outputs": [
    {
     "data": {
      "text/plain": [
       "<matplotlib.text.Text at 0x7f2180c8c940>"
      ]
     },
     "execution_count": 6,
     "metadata": {},
     "output_type": "execute_result"
    },
    {
     "data": {
      "image/png": "[encoded data removed]",
      "text/plain": [
       "<matplotlib.figure.Figure at 0x7f21840913c8>"
      ]
     },
     "metadata": {},
     "output_type": "display_data"
    }
   ],
   "source": [
    "# Histogram\n",
    "plt.figure(figsize = (20,10))\n",
    "ask_data['close'].plot.hist(bins = 200)\n",
    "plt.xlabel(\"Price\")"
   ]
  },
  {
   "cell_type": "code",
   "execution_count": 8,
   "metadata": {
    "collapsed": true
   },
   "outputs": [],
   "source": [
    "# calculate data for past 4 days (found beforehand) and save to dataframe\n",
    "for i in range(1,5):\n",
    "    close_n = ask_data['close'].shift(i)\n",
    "    ask_data[str('close-'+str(i))] = close_n.values"
   ]
  },
  {
   "cell_type": "code",
   "execution_count": 9,
   "metadata": {},
   "outputs": [
    {
     "data": {
      "text/html": [
       "<div>\n",
       "<style>\n",
       "    .dataframe thead tr:only-child th {\n",
       "        text-align: right;\n",
       "    }\n",
       "\n",
       "    .dataframe thead th {\n",
       "        text-align: left;\n",
       "    }\n",
       "\n",
       "    .dataframe tbody tr th {\n",
       "        vertical-align: top;\n",
       "    }\n",
       "</style>\n",
       "<table border=\"1\" class=\"dataframe\">\n",
       "  <thead>\n",
       "    <tr style=\"text-align: right;\">\n",
       "      <th></th>\n",
       "      <th>open</th>\n",
       "      <th>high</th>\n",
       "      <th>low</th>\n",
       "      <th>close</th>\n",
       "      <th>close-1</th>\n",
       "      <th>close-2</th>\n",
       "      <th>close-3</th>\n",
       "      <th>close-4</th>\n",
       "    </tr>\n",
       "    <tr>\n",
       "      <th>Date</th>\n",
       "      <th></th>\n",
       "      <th></th>\n",
       "      <th></th>\n",
       "      <th></th>\n",
       "      <th></th>\n",
       "      <th></th>\n",
       "      <th></th>\n",
       "      <th></th>\n",
       "    </tr>\n",
       "  </thead>\n",
       "  <tbody>\n",
       "    <tr>\n",
       "      <th>2009-05-01</th>\n",
       "      <td>1.32436</td>\n",
       "      <td>1.33282</td>\n",
       "      <td>1.32274</td>\n",
       "      <td>1.32729</td>\n",
       "      <td>NaN</td>\n",
       "      <td>NaN</td>\n",
       "      <td>NaN</td>\n",
       "      <td>NaN</td>\n",
       "    </tr>\n",
       "    <tr>\n",
       "      <th>2009-05-03</th>\n",
       "      <td>1.32731</td>\n",
       "      <td>1.32920</td>\n",
       "      <td>1.32714</td>\n",
       "      <td>1.32882</td>\n",
       "      <td>1.32729</td>\n",
       "      <td>NaN</td>\n",
       "      <td>NaN</td>\n",
       "      <td>NaN</td>\n",
       "    </tr>\n",
       "    <tr>\n",
       "      <th>2009-05-04</th>\n",
       "      <td>1.32878</td>\n",
       "      <td>1.34379</td>\n",
       "      <td>1.32123</td>\n",
       "      <td>1.34155</td>\n",
       "      <td>1.32882</td>\n",
       "      <td>1.32729</td>\n",
       "      <td>NaN</td>\n",
       "      <td>NaN</td>\n",
       "    </tr>\n",
       "    <tr>\n",
       "      <th>2009-05-05</th>\n",
       "      <td>1.34155</td>\n",
       "      <td>1.34355</td>\n",
       "      <td>1.32822</td>\n",
       "      <td>1.33037</td>\n",
       "      <td>1.34155</td>\n",
       "      <td>1.32882</td>\n",
       "      <td>1.32729</td>\n",
       "      <td>NaN</td>\n",
       "    </tr>\n",
       "    <tr>\n",
       "      <th>2009-05-06</th>\n",
       "      <td>1.33030</td>\n",
       "      <td>1.33746</td>\n",
       "      <td>1.32460</td>\n",
       "      <td>1.33000</td>\n",
       "      <td>1.33037</td>\n",
       "      <td>1.34155</td>\n",
       "      <td>1.32882</td>\n",
       "      <td>1.32729</td>\n",
       "    </tr>\n",
       "  </tbody>\n",
       "</table>\n",
       "</div>"
      ],
      "text/plain": [
       "               open     high      low    close  close-1  close-2  close-3  \\\n",
       "Date                                                                        \n",
       "2009-05-01  1.32436  1.33282  1.32274  1.32729      NaN      NaN      NaN   \n",
       "2009-05-03  1.32731  1.32920  1.32714  1.32882  1.32729      NaN      NaN   \n",
       "2009-05-04  1.32878  1.34379  1.32123  1.34155  1.32882  1.32729      NaN   \n",
       "2009-05-05  1.34155  1.34355  1.32822  1.33037  1.34155  1.32882  1.32729   \n",
       "2009-05-06  1.33030  1.33746  1.32460  1.33000  1.33037  1.34155  1.32882   \n",
       "\n",
       "            close-4  \n",
       "Date                 \n",
       "2009-05-01      NaN  \n",
       "2009-05-03      NaN  \n",
       "2009-05-04      NaN  \n",
       "2009-05-05      NaN  \n",
       "2009-05-06  1.32729  "
      ]
     },
     "execution_count": 9,
     "metadata": {},
     "output_type": "execute_result"
    }
   ],
   "source": [
    "# check if successful\n",
    "ask_data.head()"
   ]
  },
  {
   "cell_type": "code",
   "execution_count": 11,
   "metadata": {
    "collapsed": true
   },
   "outputs": [],
   "source": [
    "# drop NaN and save to itself (inplace=True)\n",
    "ask_data.dropna(inplace = True)\n",
    "# get yesterdays close values for further features\n",
    "close = np.array(ask_data['close-1'].values, dtype=np.float64)"
   ]
  },
  {
   "cell_type": "markdown",
   "metadata": {},
   "source": [
    "#### use ta-lib to create the other features"
   ]
  },
  {
   "cell_type": "code",
   "execution_count": 12,
   "metadata": {
    "collapsed": true
   },
   "outputs": [],
   "source": [
    "import talib as ta\n",
    "# calculate the features\n",
    "SMA5 = ta.SMA(close, timeperiod = 5)\n",
    "SMA8 = ta.SMA(close, timeperiod = 8)\n",
    "SMA13 = ta.SMA(close, timeperiod = 13)\n",
    "EMA12 = ta.EMA(close, timeperiod = 12)\n",
    "EMA26 = ta.EMA(close, timeperiod = 26)"
   ]
  },
  {
   "cell_type": "code",
   "execution_count": 13,
   "metadata": {
    "collapsed": true
   },
   "outputs": [],
   "source": [
    "# add the features to the data frame\n",
    "ask_data['SMA5'] = SMA5\n",
    "ask_data['SMA8'] = SMA8\n",
    "ask_data['SMA13'] = SMA13\n",
    "ask_data['EMA12'] = EMA12\n",
    "ask_data['EMA26'] = EMA26"
   ]
  },
  {
   "cell_type": "code",
   "execution_count": 14,
   "metadata": {
    "collapsed": true
   },
   "outputs": [],
   "source": [
    "# drop NaN and save to itself (inplace=True)\n",
    "ask_data.dropna(inplace = True)"
   ]
  },
  {
   "cell_type": "code",
   "execution_count": 15,
   "metadata": {},
   "outputs": [
    {
     "data": {
      "text/html": [
       "<div>\n",
       "<style>\n",
       "    .dataframe thead tr:only-child th {\n",
       "        text-align: right;\n",
       "    }\n",
       "\n",
       "    .dataframe thead th {\n",
       "        text-align: left;\n",
       "    }\n",
       "\n",
       "    .dataframe tbody tr th {\n",
       "        vertical-align: top;\n",
       "    }\n",
       "</style>\n",
       "<table border=\"1\" class=\"dataframe\">\n",
       "  <thead>\n",
       "    <tr style=\"text-align: right;\">\n",
       "      <th></th>\n",
       "      <th>open</th>\n",
       "      <th>high</th>\n",
       "      <th>low</th>\n",
       "      <th>close</th>\n",
       "      <th>close-1</th>\n",
       "      <th>close-2</th>\n",
       "      <th>close-3</th>\n",
       "      <th>close-4</th>\n",
       "      <th>SMA5</th>\n",
       "      <th>SMA8</th>\n",
       "      <th>SMA13</th>\n",
       "      <th>EMA12</th>\n",
       "      <th>EMA26</th>\n",
       "    </tr>\n",
       "    <tr>\n",
       "      <th>Date</th>\n",
       "      <th></th>\n",
       "      <th></th>\n",
       "      <th></th>\n",
       "      <th></th>\n",
       "      <th></th>\n",
       "      <th></th>\n",
       "      <th></th>\n",
       "      <th></th>\n",
       "      <th></th>\n",
       "      <th></th>\n",
       "      <th></th>\n",
       "      <th></th>\n",
       "      <th></th>\n",
       "    </tr>\n",
       "  </thead>\n",
       "  <tbody>\n",
       "    <tr>\n",
       "      <th>2009-06-08</th>\n",
       "      <td>1.39742</td>\n",
       "      <td>1.40022</td>\n",
       "      <td>1.38050</td>\n",
       "      <td>1.39293</td>\n",
       "      <td>1.39744</td>\n",
       "      <td>1.39671</td>\n",
       "      <td>1.42886</td>\n",
       "      <td>1.41799</td>\n",
       "      <td>1.410304</td>\n",
       "      <td>1.405627</td>\n",
       "      <td>1.401994</td>\n",
       "      <td>1.399127</td>\n",
       "      <td>1.377263</td>\n",
       "    </tr>\n",
       "    <tr>\n",
       "      <th>2009-06-10</th>\n",
       "      <td>1.40614</td>\n",
       "      <td>1.41437</td>\n",
       "      <td>1.39151</td>\n",
       "      <td>1.39879</td>\n",
       "      <td>1.39293</td>\n",
       "      <td>1.39744</td>\n",
       "      <td>1.39671</td>\n",
       "      <td>1.42886</td>\n",
       "      <td>1.406786</td>\n",
       "      <td>1.406851</td>\n",
       "      <td>1.403118</td>\n",
       "      <td>1.398173</td>\n",
       "      <td>1.378424</td>\n",
       "    </tr>\n",
       "    <tr>\n",
       "      <th>2009-06-11</th>\n",
       "      <td>1.39880</td>\n",
       "      <td>1.41775</td>\n",
       "      <td>1.39430</td>\n",
       "      <td>1.41245</td>\n",
       "      <td>1.39879</td>\n",
       "      <td>1.39293</td>\n",
       "      <td>1.39744</td>\n",
       "      <td>1.39671</td>\n",
       "      <td>1.402946</td>\n",
       "      <td>1.407360</td>\n",
       "      <td>1.403035</td>\n",
       "      <td>1.398268</td>\n",
       "      <td>1.379932</td>\n",
       "    </tr>\n",
       "    <tr>\n",
       "      <th>2009-06-12</th>\n",
       "      <td>1.41232</td>\n",
       "      <td>1.41271</td>\n",
       "      <td>1.39354</td>\n",
       "      <td>1.40151</td>\n",
       "      <td>1.41245</td>\n",
       "      <td>1.39879</td>\n",
       "      <td>1.39293</td>\n",
       "      <td>1.39744</td>\n",
       "      <td>1.399664</td>\n",
       "      <td>1.406961</td>\n",
       "      <td>1.403795</td>\n",
       "      <td>1.400450</td>\n",
       "      <td>1.382341</td>\n",
       "    </tr>\n",
       "    <tr>\n",
       "      <th>2009-06-14</th>\n",
       "      <td>1.39890</td>\n",
       "      <td>1.40016</td>\n",
       "      <td>1.39664</td>\n",
       "      <td>1.39770</td>\n",
       "      <td>1.40151</td>\n",
       "      <td>1.41245</td>\n",
       "      <td>1.39879</td>\n",
       "      <td>1.39293</td>\n",
       "      <td>1.400624</td>\n",
       "      <td>1.405835</td>\n",
       "      <td>1.403840</td>\n",
       "      <td>1.400613</td>\n",
       "      <td>1.383761</td>\n",
       "    </tr>\n",
       "  </tbody>\n",
       "</table>\n",
       "</div>"
      ],
      "text/plain": [
       "               open     high      low    close  close-1  close-2  close-3  \\\n",
       "Date                                                                        \n",
       "2009-06-08  1.39742  1.40022  1.38050  1.39293  1.39744  1.39671  1.42886   \n",
       "2009-06-10  1.40614  1.41437  1.39151  1.39879  1.39293  1.39744  1.39671   \n",
       "2009-06-11  1.39880  1.41775  1.39430  1.41245  1.39879  1.39293  1.39744   \n",
       "2009-06-12  1.41232  1.41271  1.39354  1.40151  1.41245  1.39879  1.39293   \n",
       "2009-06-14  1.39890  1.40016  1.39664  1.39770  1.40151  1.41245  1.39879   \n",
       "\n",
       "            close-4      SMA5      SMA8     SMA13     EMA12     EMA26  \n",
       "Date                                                                   \n",
       "2009-06-08  1.41799  1.410304  1.405627  1.401994  1.399127  1.377263  \n",
       "2009-06-10  1.42886  1.406786  1.406851  1.403118  1.398173  1.378424  \n",
       "2009-06-11  1.39671  1.402946  1.407360  1.403035  1.398268  1.379932  \n",
       "2009-06-12  1.39744  1.399664  1.406961  1.403795  1.400450  1.382341  \n",
       "2009-06-14  1.39293  1.400624  1.405835  1.403840  1.400613  1.383761  "
      ]
     },
     "execution_count": 15,
     "metadata": {},
     "output_type": "execute_result"
    }
   ],
   "source": [
    "# have a look on the first 5 samples\n",
    "ask_data.head()"
   ]
  },
  {
   "cell_type": "code",
   "execution_count": 15,
   "metadata": {},
   "outputs": [
    {
     "name": "stdout",
     "output_type": "stream",
     "text": [
      "<class 'pandas.core.frame.DataFrame'>\n",
      "Index: 2237 entries, 2009-06-08 to 2017-06-30\n",
      "Data columns (total 13 columns):\n",
      "open       2237 non-null float64\n",
      "high       2237 non-null float64\n",
      "low        2237 non-null float64\n",
      "close      2237 non-null float64\n",
      "close-1    2237 non-null float64\n",
      "close-2    2237 non-null float64\n",
      "close-3    2237 non-null float64\n",
      "close-4    2237 non-null float64\n",
      "SMA5       2237 non-null float64\n",
      "SMA8       2237 non-null float64\n",
      "SMA13      2237 non-null float64\n",
      "EMA12      2237 non-null float64\n",
      "EMA26      2237 non-null float64\n",
      "dtypes: float64(13)\n",
      "memory usage: 244.7+ KB\n"
     ]
    }
   ],
   "source": [
    "ask_data.info()"
   ]
  },
  {
   "cell_type": "code",
   "execution_count": 16,
   "metadata": {
    "collapsed": true
   },
   "outputs": [],
   "source": [
    "# save the dataframe as final file\n",
    "ask_data.to_csv(\"data_complete_1d.csv\", index_label='Date')"
   ]
  },
  {
   "cell_type": "code",
   "execution_count": null,
   "metadata": {
    "collapsed": true
   },
   "outputs": [],
   "source": []
  }
 ],
 "metadata": {
  "kernelspec": {
   "display_name": "Python 3",
   "language": "python",
   "name": "python3"
  },
  "language_info": {
   "codemirror_mode": {
    "name": "ipython",
    "version": 3
   },
   "file_extension": ".py",
   "mimetype": "text/x-python",
   "name": "python",
   "nbconvert_exporter": "python",
   "pygments_lexer": "ipython3",
   "version": "3.6.1"
  }
 },
 "nbformat": 4,
 "nbformat_minor": 2
}
